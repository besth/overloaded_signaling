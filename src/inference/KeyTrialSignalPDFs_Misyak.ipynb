{
 "cells": [
  {
   "cell_type": "code",
   "execution_count": 1,
   "metadata": {
    "ExecuteTime": {
     "end_time": "2019-08-21T19:15:56.610002Z",
     "start_time": "2019-08-21T19:15:56.430191Z"
    },
    "scrolled": true
   },
   "outputs": [],
   "source": [
    "import sys\n",
    "import pandas as pd\n",
    "sys.path.append('../src/')\n",
    "from GenerativeSignaler import SignalerZero\n",
    "from consistentSignalChecks import signalIsConsistent_Boxes\n",
    "from OverloadedReceiver import ReceiverZero\n",
    "from OverloadedSignaler import SignalerOne\n",
    "from commonGroundConstruction import *\n",
    "from mindConstruction import *"
   ]
  },
  {
   "cell_type": "markdown",
   "metadata": {},
   "source": [
    "### Setup Parameters"
   ]
  },
  {
   "cell_type": "code",
   "execution_count": 2,
   "metadata": {
    "ExecuteTime": {
     "end_time": "2019-08-21T19:15:56.614944Z",
     "start_time": "2019-08-21T19:15:56.611222Z"
    },
    "scrolled": true
   },
   "outputs": [],
   "source": [
    "#world spaces\n",
    "twoRewardWorldSpace = getWorldSpace(wall = False, nBoxes = 3, nRewards = 2)\n",
    "oneRewardWorldSpace = getWorldSpace(wall = False, nBoxes = 3, nRewards = 1)\n",
    "wallWorldSpace = getWorldSpace(wall = True, nBoxes = 3, nRewards = 2)\n",
    "\n",
    "#action spaces\n",
    "oneAxeActionSpace = getActionSpace(nBoxes = 3, nReceiverChoices = 1)\n",
    "oneAxeActionSpace.remove((0,0,0))\n",
    "twoAxeActionSpace = getActionSpace(nBoxes = 3, nReceiverChoices = 2)\n",
    "twoAxeActionSpace.remove((0,0,0))\n",
    "\n",
    "#signal spaces\n",
    "oneTokenSignalSpace = getSignalSpace(nBoxes=3, nSignals = 1)\n",
    "oneTokenSignalSpace.remove((0,0,0))\n",
    "twoTokenSignalSpace = getSignalSpace(nBoxes=3, nSignals = 2)\n",
    "twoTokenSignalSpace.remove((0,0,0))\n",
    "\n",
    "#condition common ground spaces\n",
    "twoTokenCondition = {'worlds': twoRewardWorldSpace, 'desires': [1], 'goals': [1], 'actions': twoAxeActionSpace}\n",
    "inversionCondition = {'worlds': twoRewardWorldSpace, 'desires': [1], 'goals': [1], 'actions': twoAxeActionSpace}\n",
    "oneAxeCondition = {'worlds': twoRewardWorldSpace, 'desires': [1], 'goals': [1], 'actions': oneAxeActionSpace}\n",
    "wallCondition = {'worlds': wallWorldSpace, 'desires': [1], 'goals': [1], 'actions': twoAxeActionSpace}\n",
    "\n",
    "fixedParameters = {'locationCost':0, 'rewardValue':1, 'nonRewardCost':0, 'observation': (1,1,0)}"
   ]
  },
  {
   "cell_type": "markdown",
   "metadata": {},
   "source": [
    "# Signaling Distributions"
   ]
  },
  {
   "cell_type": "code",
   "execution_count": 3,
   "metadata": {
    "ExecuteTime": {
     "end_time": "2019-08-21T19:15:56.618906Z",
     "start_time": "2019-08-21T19:15:56.616040Z"
    }
   },
   "outputs": [],
   "source": [
    "#parameters consistent across conditions\n",
    "a = 8\n",
    "signalCategoryPrior = {'1':.6, '-1':.4}\n",
    "getActionUtility = ActionUtility(costOfLocation=0,\n",
    "                                 costOfNonReward=0,\n",
    "                                 valueOfReward=1)\n",
    "getActionDistribution = ActionDistributionGivenWorldGoal(a, getActionUtility, False)\n",
    "getMind = GenerateMind(getWorldProbabiltiy_Uniform, getDesireProbability_Uniform, getGoalGivenWorldAndDesire_SingleGoal, getActionDistribution)"
   ]
  },
  {
   "cell_type": "markdown",
   "metadata": {},
   "source": [
    "## Two token condition"
   ]
  },
  {
   "cell_type": "code",
   "execution_count": 4,
   "metadata": {
    "ExecuteTime": {
     "end_time": "2019-08-21T19:15:56.891767Z",
     "start_time": "2019-08-21T19:15:56.619948Z"
    }
   },
   "outputs": [],
   "source": [
    "getGenerativeSignaler_2Token = SignalerZero(twoTokenSignalSpace, signalIsConsistent_Boxes)\n",
    "getReceiverZero_2Token = ReceiverZero(commonGroundDictionary=twoTokenCondition, constructMind=getMind, getSignalerZero=getGenerativeSignaler_2Token, signalCategoryPrior=signalCategoryPrior)\n",
    "getSignalerOne_2Token = SignalerOne(alpha=a, signalSpace =twoTokenSignalSpace,  getActionUtility=getActionUtility, getReceiverZero=getReceiverZero_2Token)"
   ]
  },
  {
   "cell_type": "code",
   "execution_count": 5,
   "metadata": {
    "ExecuteTime": {
     "end_time": "2019-08-21T19:15:57.597997Z",
     "start_time": "2019-08-21T19:15:56.892910Z"
    },
    "scrolled": false
   },
   "outputs": [
    {
     "data": {
      "text/html": [
       "<div>\n",
       "<style scoped>\n",
       "    .dataframe tbody tr th:only-of-type {\n",
       "        vertical-align: middle;\n",
       "    }\n",
       "\n",
       "    .dataframe tbody tr th {\n",
       "        vertical-align: top;\n",
       "    }\n",
       "\n",
       "    .dataframe thead th {\n",
       "        text-align: right;\n",
       "    }\n",
       "</style>\n",
       "<table border=\"1\" class=\"dataframe\">\n",
       "  <thead>\n",
       "    <tr style=\"text-align: right;\">\n",
       "      <th></th>\n",
       "      <th>probabilities</th>\n",
       "    </tr>\n",
       "    <tr>\n",
       "      <th>signals</th>\n",
       "      <th></th>\n",
       "    </tr>\n",
       "  </thead>\n",
       "  <tbody>\n",
       "    <tr>\n",
       "      <th>(1, 1, 0)</th>\n",
       "      <td>0.976616</td>\n",
       "    </tr>\n",
       "    <tr>\n",
       "      <th>(1, 0, 1)</th>\n",
       "      <td>0.000328</td>\n",
       "    </tr>\n",
       "    <tr>\n",
       "      <th>(1, 0, 0)</th>\n",
       "      <td>0.002421</td>\n",
       "    </tr>\n",
       "    <tr>\n",
       "      <th>(0, 1, 1)</th>\n",
       "      <td>0.000328</td>\n",
       "    </tr>\n",
       "    <tr>\n",
       "      <th>(0, 1, 0)</th>\n",
       "      <td>0.002421</td>\n",
       "    </tr>\n",
       "    <tr>\n",
       "      <th>(0, 0, 1)</th>\n",
       "      <td>0.017887</td>\n",
       "    </tr>\n",
       "  </tbody>\n",
       "</table>\n",
       "</div>"
      ],
      "text/plain": [
       "           probabilities\n",
       "signals                 \n",
       "(1, 1, 0)       0.976616\n",
       "(1, 0, 1)       0.000328\n",
       "(1, 0, 0)       0.002421\n",
       "(0, 1, 1)       0.000328\n",
       "(0, 1, 0)       0.002421\n",
       "(0, 0, 1)       0.017887"
      ]
     },
     "execution_count": 5,
     "metadata": {},
     "output_type": "execute_result"
    }
   ],
   "source": [
    "observedWorld = {'worlds':(1,1,0)}\n",
    "getSignalerOne_2Token(observedWorld)"
   ]
  },
  {
   "cell_type": "markdown",
   "metadata": {},
   "source": [
    "## Inversion Condition"
   ]
  },
  {
   "cell_type": "code",
   "execution_count": 6,
   "metadata": {
    "ExecuteTime": {
     "end_time": "2019-08-21T19:15:57.871357Z",
     "start_time": "2019-08-21T19:15:57.599226Z"
    }
   },
   "outputs": [],
   "source": [
    "getGenerativeSignaler_Inversion = SignalerZero(oneTokenSignalSpace, signalIsConsistent_Boxes)\n",
    "getReceiverZero_Inversion = ReceiverZero(commonGroundDictionary=inversionCondition, constructMind=getMind, getSignalerZero=getGenerativeSignaler_Inversion, signalCategoryPrior=signalCategoryPrior)\n",
    "getSignalerOne_Inversion = SignalerOne(alpha=a, signalSpace=oneTokenSignalSpace,  getActionUtility=getActionUtility, getReceiverZero=getReceiverZero_Inversion)"
   ]
  },
  {
   "cell_type": "code",
   "execution_count": 7,
   "metadata": {
    "ExecuteTime": {
     "end_time": "2019-08-21T19:15:58.107868Z",
     "start_time": "2019-08-21T19:15:57.872475Z"
    }
   },
   "outputs": [
    {
     "data": {
      "text/html": [
       "<div>\n",
       "<style scoped>\n",
       "    .dataframe tbody tr th:only-of-type {\n",
       "        vertical-align: middle;\n",
       "    }\n",
       "\n",
       "    .dataframe tbody tr th {\n",
       "        vertical-align: top;\n",
       "    }\n",
       "\n",
       "    .dataframe thead th {\n",
       "        text-align: right;\n",
       "    }\n",
       "</style>\n",
       "<table border=\"1\" class=\"dataframe\">\n",
       "  <thead>\n",
       "    <tr style=\"text-align: right;\">\n",
       "      <th></th>\n",
       "      <th>probabilities</th>\n",
       "    </tr>\n",
       "    <tr>\n",
       "      <th>signals</th>\n",
       "      <th></th>\n",
       "    </tr>\n",
       "  </thead>\n",
       "  <tbody>\n",
       "    <tr>\n",
       "      <th>(1, 0, 0)</th>\n",
       "      <td>0.236656</td>\n",
       "    </tr>\n",
       "    <tr>\n",
       "      <th>(0, 1, 0)</th>\n",
       "      <td>0.236656</td>\n",
       "    </tr>\n",
       "    <tr>\n",
       "      <th>(0, 0, 1)</th>\n",
       "      <td>0.526688</td>\n",
       "    </tr>\n",
       "  </tbody>\n",
       "</table>\n",
       "</div>"
      ],
      "text/plain": [
       "           probabilities\n",
       "signals                 \n",
       "(1, 0, 0)       0.236656\n",
       "(0, 1, 0)       0.236656\n",
       "(0, 0, 1)       0.526688"
      ]
     },
     "execution_count": 7,
     "metadata": {},
     "output_type": "execute_result"
    }
   ],
   "source": [
    "observedWorld = {'worlds':(1,1,0)}\n",
    "getSignalerOne_Inversion(observedWorld)"
   ]
  },
  {
   "cell_type": "markdown",
   "metadata": {},
   "source": [
    "## Wall Condition"
   ]
  },
  {
   "cell_type": "code",
   "execution_count": 8,
   "metadata": {
    "ExecuteTime": {
     "end_time": "2019-08-21T19:15:58.833459Z",
     "start_time": "2019-08-21T19:15:58.109140Z"
    }
   },
   "outputs": [],
   "source": [
    "getGenerativeSignaler_Wall = SignalerZero(oneTokenSignalSpace, signalIsConsistent_Boxes)\n",
    "getReceiverZero_Wall = ReceiverZero(commonGroundDictionary=wallCondition, constructMind=getMind, getSignalerZero=getGenerativeSignaler_Wall, signalCategoryPrior=signalCategoryPrior)\n",
    "getSignalerOne_Wall = SignalerOne(alpha=a, signalSpace=oneTokenSignalSpace,  getActionUtility=getActionUtility, getReceiverZero=getReceiverZero_Wall)"
   ]
  },
  {
   "cell_type": "code",
   "execution_count": 9,
   "metadata": {
    "ExecuteTime": {
     "end_time": "2019-08-21T19:15:59.286243Z",
     "start_time": "2019-08-21T19:15:58.834435Z"
    }
   },
   "outputs": [
    {
     "data": {
      "text/html": [
       "<div>\n",
       "<style scoped>\n",
       "    .dataframe tbody tr th:only-of-type {\n",
       "        vertical-align: middle;\n",
       "    }\n",
       "\n",
       "    .dataframe tbody tr th {\n",
       "        vertical-align: top;\n",
       "    }\n",
       "\n",
       "    .dataframe thead th {\n",
       "        text-align: right;\n",
       "    }\n",
       "</style>\n",
       "<table border=\"1\" class=\"dataframe\">\n",
       "  <thead>\n",
       "    <tr style=\"text-align: right;\">\n",
       "      <th></th>\n",
       "      <th>probabilities</th>\n",
       "    </tr>\n",
       "    <tr>\n",
       "      <th>signals</th>\n",
       "      <th></th>\n",
       "    </tr>\n",
       "  </thead>\n",
       "  <tbody>\n",
       "    <tr>\n",
       "      <th>(1, 0, 0)</th>\n",
       "      <td>0.389906</td>\n",
       "    </tr>\n",
       "    <tr>\n",
       "      <th>(0, 1, 0)</th>\n",
       "      <td>0.389906</td>\n",
       "    </tr>\n",
       "    <tr>\n",
       "      <th>(0, 0, 1)</th>\n",
       "      <td>0.220187</td>\n",
       "    </tr>\n",
       "  </tbody>\n",
       "</table>\n",
       "</div>"
      ],
      "text/plain": [
       "           probabilities\n",
       "signals                 \n",
       "(1, 0, 0)       0.389906\n",
       "(0, 1, 0)       0.389906\n",
       "(0, 0, 1)       0.220187"
      ]
     },
     "execution_count": 9,
     "metadata": {},
     "output_type": "execute_result"
    }
   ],
   "source": [
    "observedWorld = {'worlds':(1,1,0)}\n",
    "getSignalerOne_Wall(observedWorld)"
   ]
  },
  {
   "cell_type": "markdown",
   "metadata": {},
   "source": [
    "## Axe Condition"
   ]
  },
  {
   "cell_type": "code",
   "execution_count": 10,
   "metadata": {
    "ExecuteTime": {
     "end_time": "2019-08-21T19:15:59.428033Z",
     "start_time": "2019-08-21T19:15:59.287380Z"
    }
   },
   "outputs": [],
   "source": [
    "getGenerativeSignaler_OneAxe = SignalerZero(oneTokenSignalSpace, signalIsConsistent_Boxes)\n",
    "getReceiverZero_OneAxe = ReceiverZero(commonGroundDictionary=oneAxeCondition, constructMind=getMind, getSignalerZero=getGenerativeSignaler_OneAxe, signalCategoryPrior=signalCategoryPrior)\n",
    "getSignalerOne_OneAxe = SignalerOne(alpha=a, signalSpace=oneTokenSignalSpace,  getActionUtility=getActionUtility, getReceiverZero=getReceiverZero_OneAxe)"
   ]
  },
  {
   "cell_type": "code",
   "execution_count": 11,
   "metadata": {
    "ExecuteTime": {
     "end_time": "2019-08-21T19:15:59.602521Z",
     "start_time": "2019-08-21T19:15:59.429134Z"
    }
   },
   "outputs": [
    {
     "data": {
      "text/html": [
       "<div>\n",
       "<style scoped>\n",
       "    .dataframe tbody tr th:only-of-type {\n",
       "        vertical-align: middle;\n",
       "    }\n",
       "\n",
       "    .dataframe tbody tr th {\n",
       "        vertical-align: top;\n",
       "    }\n",
       "\n",
       "    .dataframe thead th {\n",
       "        text-align: right;\n",
       "    }\n",
       "</style>\n",
       "<table border=\"1\" class=\"dataframe\">\n",
       "  <thead>\n",
       "    <tr style=\"text-align: right;\">\n",
       "      <th></th>\n",
       "      <th>probabilities</th>\n",
       "    </tr>\n",
       "    <tr>\n",
       "      <th>signals</th>\n",
       "      <th></th>\n",
       "    </tr>\n",
       "  </thead>\n",
       "  <tbody>\n",
       "    <tr>\n",
       "      <th>(1, 0, 0)</th>\n",
       "      <td>0.286383</td>\n",
       "    </tr>\n",
       "    <tr>\n",
       "      <th>(0, 1, 0)</th>\n",
       "      <td>0.286383</td>\n",
       "    </tr>\n",
       "    <tr>\n",
       "      <th>(0, 0, 1)</th>\n",
       "      <td>0.427234</td>\n",
       "    </tr>\n",
       "  </tbody>\n",
       "</table>\n",
       "</div>"
      ],
      "text/plain": [
       "           probabilities\n",
       "signals                 \n",
       "(1, 0, 0)       0.286383\n",
       "(0, 1, 0)       0.286383\n",
       "(0, 0, 1)       0.427234"
      ]
     },
     "execution_count": 11,
     "metadata": {},
     "output_type": "execute_result"
    }
   ],
   "source": [
    "observedWorld = {'worlds':(1,1,0)}\n",
    "getSignalerOne_OneAxe(observedWorld)"
   ]
  }
 ],
 "metadata": {
  "kernelspec": {
   "display_name": "Python 3",
   "language": "python",
   "name": "python3"
  },
  "language_info": {
   "codemirror_mode": {
    "name": "ipython",
    "version": 3
   },
   "file_extension": ".py",
   "mimetype": "text/x-python",
   "name": "python",
   "nbconvert_exporter": "python",
   "pygments_lexer": "ipython3",
   "version": "3.6.8"
  },
  "toc": {
   "base_numbering": 1,
   "nav_menu": {},
   "number_sections": true,
   "sideBar": false,
   "skip_h1_title": false,
   "title_cell": "Table of Contents",
   "title_sidebar": "Contents",
   "toc_cell": false,
   "toc_position": {
    "height": "1465.42px",
    "left": "49px",
    "top": "110.883px",
    "width": "198px"
   },
   "toc_section_display": false,
   "toc_window_display": true
  }
 },
 "nbformat": 4,
 "nbformat_minor": 2
}
